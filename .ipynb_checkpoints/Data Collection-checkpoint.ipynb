{
 "cells": [
  {
   "cell_type": "code",
   "execution_count": 5,
   "id": "deacc068-b706-4995-bb5f-ed6d9f2e3e9a",
   "metadata": {
    "scrolled": true
   },
   "outputs": [],
   "source": [
    "import requests\n",
    "from bs4 import BeautifulSoup\n",
    "import csv\n",
    "from pytube import Search\n",
    "import pandas as pd\n",
    "from yt_dlp import YoutubeDL"
   ]
  },
  {
   "cell_type": "code",
   "execution_count": 6,
   "id": "51840791-f445-43e0-abab-86124cc63c24",
   "metadata": {},
   "outputs": [],
   "source": [
    "def scrape_composer_works(url, composer_name):\n",
    "    # Send a GET request to the URL\n",
    "    response = requests.get(url)\n",
    "\n",
    "    # Parse the HTML content\n",
    "    soup = BeautifulSoup(response.text, 'html.parser')\n",
    "\n",
    "    # Extract tables from the page\n",
    "    tables = soup.find_all('table', class_='wikitable')\n",
    "\n",
    "    composer_pieces = []\n",
    "\n",
    "    # Process each table\n",
    "    for table in tables:\n",
    "        rows = table.find_all('tr')\n",
    "        title_idx = key_idx = date_idx = None\n",
    "\n",
    "        # Find the indexes for Title, Key, and Date\n",
    "        headers = rows[0].find_all('th')\n",
    "        for idx, header in enumerate(headers):\n",
    "            header_text = header.get_text(strip=True).lower()\n",
    "            if \"title\" in header_text:\n",
    "                title_idx = idx\n",
    "            elif \"key\" in header_text:\n",
    "                key_idx = idx\n",
    "            elif \"date\" in header_text:\n",
    "                date_idx = idx\n",
    "\n",
    "        # Process each row in the table\n",
    "        for row in rows[1:]:\n",
    "            cols = row.find_all('td')\n",
    "            if title_idx is not None and len(cols) > title_idx:\n",
    "                title = cols[title_idx].get_text(strip=True)\n",
    "                key = cols[key_idx].get_text(strip=True) if key_idx is not None and len(cols) > key_idx else ''\n",
    "                date = cols[date_idx].get_text(strip=True) if date_idx is not None and len(cols) > date_idx else ''\n",
    "                \n",
    "                if not date:\n",
    "                    continue\n",
    "                # Format title with key if key exists\n",
    "                if key:\n",
    "                    title = f\"{title} (in {key})\"\n",
    "\n",
    "                composer_pieces.append({\n",
    "                    \"composer\": composer_name,\n",
    "                    \"Piece Name\": title,\n",
    "                    \"year\": date\n",
    "                })\n",
    "\n",
    "    # Check if any pieces were found\n",
    "    if not composer_pieces:\n",
    "        print(\"No valid pieces found\")\n",
    "        return\n",
    "\n",
    "    df = pd.DataFrame(composer_pieces)\n",
    "    return df"
   ]
  },
  {
   "cell_type": "code",
   "execution_count": 7,
   "id": "7ce90dd6-e2e2-41a2-a7ac-08951fdf4686",
   "metadata": {},
   "outputs": [],
   "source": [
    "def search_youtube(query):\n",
    "    ydl_opts = {\n",
    "        'quiet': True,\n",
    "        'no_warnings': True,\n",
    "        'extract_flat': True,\n",
    "        'default_search': 'ytsearch1:'\n",
    "    }\n",
    "    with YoutubeDL(ydl_opts) as ydl:\n",
    "        try:\n",
    "            result = ydl.extract_info(f\"ytsearch1:{query}\", download=False)\n",
    "            if result and 'entries' in result and result['entries']:\n",
    "                return f\"https://youtube.com/watch?v={result['entries'][0]['id']}\"\n",
    "        except:\n",
    "            pass\n",
    "    return \"\"\n",
    "\n",
    "def add_youtube_links(df, composer_name):\n",
    "    df['Youtube Link'] = df.apply(\n",
    "        lambda row: search_youtube(f\"{row['Piece Name']} {composer_name}\"), \n",
    "        axis=1\n",
    "    )\n",
    "    return df"
   ]
  },
  {
   "cell_type": "code",
   "execution_count": 8,
   "id": "d9c6ac81",
   "metadata": {},
   "outputs": [],
   "source": [
    "url = \"https://imslp.org/wiki/List_of_works_by_Ludwig_van_Beethoven\" # Get IMSLP catalog for a composer\n",
    "composer_name = \"Ludwig van Beethoven\" # Specify name of composer\n",
    "\n",
    "# Creation of data set including composer, piece name, year, and link to recording\n",
    "beethoven_df = scrape_composer_works(url, composer_name)\n",
    "beethoven_df = add_youtube_links(beethoven_df, composer_name)"
   ]
  },
  {
   "cell_type": "code",
   "execution_count": 15,
   "id": "1ff6f524",
   "metadata": {},
   "outputs": [],
   "source": [
    "beethoven_df.to_csv('specify name', index=False) # Save your df to a csv"
   ]
  }
 ],
 "metadata": {
  "kernelspec": {
   "display_name": "Python 3 (ipykernel)",
   "language": "python",
   "name": "python3"
  },
  "language_info": {
   "codemirror_mode": {
    "name": "ipython",
    "version": 3
   },
   "file_extension": ".py",
   "mimetype": "text/x-python",
   "name": "python",
   "nbconvert_exporter": "python",
   "pygments_lexer": "ipython3",
   "version": "3.11.4"
  }
 },
 "nbformat": 4,
 "nbformat_minor": 5
}
