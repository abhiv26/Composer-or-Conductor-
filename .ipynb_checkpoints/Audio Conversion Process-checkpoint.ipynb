{
 "cells": [
  {
   "cell_type": "code",
   "execution_count": null,
   "id": "d3d89b8e",
   "metadata": {},
   "outputs": [],
   "source": [
    "import os\n",
    "import pandas as pd\n",
    "import yt_dlp\n",
    "import librosa\n",
    "import re\n",
    "from concurrent.futures import ThreadPoolExecutor"
   ]
  },
  {
   "cell_type": "code",
   "execution_count": null,
   "id": "59989b9e",
   "metadata": {},
   "outputs": [],
   "source": [
    "def download_audio_from_youtube(youtube_url, output_folder):\n",
    "    ydl_opts = {\n",
    "        'format': 'bestaudio/best',\n",
    "        'outtmpl': os.path.join(output_folder, '%(title)s.%(ext)s'),\n",
    "        'postprocessors': [{\n",
    "            'key': 'FFmpegExtractAudio',\n",
    "            'preferredcodec': 'mp3',\n",
    "            'preferredquality': '192',\n",
    "        }],\n",
    "        'ffmpeg_location': '/opt/homebrew/bin/ffmpeg',\n",
    "        'quiet': True,\n",
    "        'no_warnings': True,\n",
    "        'prefer_ffmpeg': True,\n",
    "        'keepvideo': False\n",
    "    }\n",
    "    with yt_dlp.YoutubeDL(ydl_opts) as ydl:\n",
    "        ydl.download([youtube_url])\n",
    "        \n",
    "def process_row(row, output_folder):\n",
    "    youtube_url = row['Youtube Link']\n",
    "    download_audio_from_youtube(youtube_url, output_folder)\n",
    "\n",
    "\n",
    "def process_csv_and_download_audio(csv_path, output_folder):\n",
    "    os.makedirs(output_folder, exist_ok=True)\n",
    "    df = pd.read_csv(csv_path)\n",
    "    df = df.dropna(subset=['Youtube Link'])\n",
    "    \n",
    "    with ThreadPoolExecutor(max_workers=20) as executor:\n",
    "        futures = [executor.submit(process_row, row, output_folder) for _, row in df.iterrows()]\n",
    "        for future in futures:\n",
    "            future.result()\n",
    "            \n",
    "# Main execution\n",
    "csv_file_path = r\"specify path\"  # Path to your dataseet\n",
    "output_folder = r\"specify path\"  # Folder to save downloaded audio\n",
    "\n",
    "process_csv_and_download_audio(csv_file_path, output_folder)"
   ]
  }
 ],
 "metadata": {
  "kernelspec": {
   "display_name": "Python 3 (ipykernel)",
   "language": "python",
   "name": "python3"
  },
  "language_info": {
   "codemirror_mode": {
    "name": "ipython",
    "version": 3
   },
   "file_extension": ".py",
   "mimetype": "text/x-python",
   "name": "python",
   "nbconvert_exporter": "python",
   "pygments_lexer": "ipython3",
   "version": "3.11.4"
  }
 },
 "nbformat": 4,
 "nbformat_minor": 5
}
